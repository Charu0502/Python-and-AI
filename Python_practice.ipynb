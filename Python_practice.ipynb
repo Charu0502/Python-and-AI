{
  "nbformat": 4,
  "nbformat_minor": 0,
  "metadata": {
    "colab": {
      "provenance": [],
      "name": "Python practice.ipynb",
      "authorship_tag": "ABX9TyMMehmMZJFJk/yYPQ/ddizS",
      "include_colab_link": true
    },
    "kernelspec": {
      "name": "python3",
      "display_name": "Python 3"
    },
    "language_info": {
      "name": "python"
    }
  },
  "cells": [
    {
      "cell_type": "markdown",
      "metadata": {
        "id": "view-in-github",
        "colab_type": "text"
      },
      "source": [
        "<a href=\"https://colab.research.google.com/github/Charu0502/Python-and-AI/blob/main/Python_practice.ipynb\" target=\"_parent\"><img src=\"https://colab.research.google.com/assets/colab-badge.svg\" alt=\"Open In Colab\"/></a>"
      ]
    },
    {
      "cell_type": "code",
      "execution_count": null,
      "metadata": {
        "colab": {
          "base_uri": "https://localhost:8080/"
        },
        "id": "RlciZkctVJF9",
        "outputId": "c5a522f0-3120-4c28-b6c0-d844f384b796"
      },
      "outputs": [
        {
          "output_type": "stream",
          "name": "stdout",
          "text": [
            "FIRST PRACTICE EXERCISE\n"
          ]
        }
      ],
      "source": [
        "print(\"FIRST PRACTICE EXERCISE\")"
      ]
    },
    {
      "cell_type": "markdown",
      "source": [
        "#Program 2\n",
        "Write a Python program to do arithmetical operations addition and division."
      ],
      "metadata": {
        "id": "Df7OaUNDVVP9"
      }
    },
    {
      "cell_type": "code",
      "source": [
        "num1 = int(input(\"Enter first number: \"))\n",
        "num2 = int(input(\"Enter second number: \"))\n",
        "total_sum = num1 + num2\n",
        "print(f\"The sum of {num1} and {num2} is {total_sum}\")"
      ],
      "metadata": {
        "colab": {
          "base_uri": "https://localhost:8080/"
        },
        "id": "xZdqRGfIVP36",
        "outputId": "9e33aa9d-3cca-4b8f-c432-e77380846e47"
      },
      "execution_count": null,
      "outputs": [
        {
          "output_type": "stream",
          "name": "stdout",
          "text": [
            "Enter first number: 2\n",
            "Enter second number: 3\n",
            "The sum of 2 and 3 is 5\n"
          ]
        }
      ]
    },
    {
      "cell_type": "code",
      "source": [
        "num3 = float(input(\"Enter the dividend for division: \"))\n",
        "num4 = float(input(\"Enter the divisor for division: \"))\n",
        "if num4 == 0:\n",
        "    print(\"Error: Division by zero is not allowed.\")\n",
        "else:\n",
        "    result = num3 / num4\n",
        "    print(f\"Division:{num3}/{num4}={result}\")"
      ],
      "metadata": {
        "colab": {
          "base_uri": "https://localhost:8080/"
        },
        "id": "YOBfonitV17U",
        "outputId": "9d86e96f-7298-4ac9-841f-c0e8d1d2efa5"
      },
      "execution_count": null,
      "outputs": [
        {
          "output_type": "stream",
          "name": "stdout",
          "text": [
            "Enter the dividend for division: 6\n",
            "Enter the divisor for division: 0\n",
            "Error: Division by zero is not allowed.\n"
          ]
        }
      ]
    },
    {
      "cell_type": "markdown",
      "source": [
        "#Program 3\n",
        "Write a Python program to find the area of a triangle."
      ],
      "metadata": {
        "id": "0ewIpdw0YHiR"
      }
    },
    {
      "cell_type": "code",
      "source": [
        "base = float(input(\"Enter the base of the triangle: \"))\n",
        "height = float(input(\"Enter the height of the triangle: \"))\n",
        "area = 0.5 * base * height\n",
        "print(f\"The area of the triangle with base {base} and height {height} is {area}\")"
      ],
      "metadata": {
        "colab": {
          "base_uri": "https://localhost:8080/"
        },
        "id": "Tex1eMQMX7vy",
        "outputId": "88308db3-5d70-4a21-860b-13d969acf727"
      },
      "execution_count": null,
      "outputs": [
        {
          "output_type": "stream",
          "name": "stdout",
          "text": [
            "Enter the base of the triangle: 20\n",
            "Enter the height of the triangle: 6\n",
            "The area of the triangle with base 20.0 and height 6.0 is 60.0\n"
          ]
        }
      ]
    },
    {
      "cell_type": "markdown",
      "source": [
        "#Program 4\n",
        "Write a Python program to swap two variables"
      ],
      "metadata": {
        "id": "hXwTLc2JYjtI"
      }
    },
    {
      "cell_type": "code",
      "source": [
        "a = input(\"Enter the value of a: \")\n",
        "b = input(\"Enter the value of b: \")\n",
        "print(f\"Before swapping: a={a}, b={b}\")\n",
        "temp = a\n",
        "a = b\n",
        "b = temp\n",
        "print(f\"After swapping: a={a}, b={b}\")"
      ],
      "metadata": {
        "colab": {
          "base_uri": "https://localhost:8080/"
        },
        "id": "TBZDN9ApYWss",
        "outputId": "12e9f7f3-e804-4a67-c844-6a30cd0d945a"
      },
      "execution_count": null,
      "outputs": [
        {
          "output_type": "stream",
          "name": "stdout",
          "text": [
            "Enter the value of a: 2\n",
            "Enter the value of b: 3\n",
            "Before swapping: a=2, b=3\n",
            "After swapping: a=3, b=2\n"
          ]
        }
      ]
    },
    {
      "cell_type": "markdown",
      "source": [
        "#Program 5\n",
        "Write a Python program to generate a random number."
      ],
      "metadata": {
        "id": "6bjXSMBdbwZ0"
      }
    },
    {
      "cell_type": "code",
      "source": [
        "import random\n",
        "print(f\"Random number : {random.randint(1,100)}\")"
      ],
      "metadata": {
        "colab": {
          "base_uri": "https://localhost:8080/"
        },
        "id": "KiEC0TktY_Tj",
        "outputId": "022f5e77-0995-4ebd-b0eb-7bab07cd363c"
      },
      "execution_count": null,
      "outputs": [
        {
          "output_type": "stream",
          "name": "stdout",
          "text": [
            "Random number : 97\n"
          ]
        }
      ]
    },
    {
      "cell_type": "markdown",
      "source": [
        "#Program 6\n",
        "Write a Python program to convert kilometers to miles."
      ],
      "metadata": {
        "id": "zee61z5-cWEe"
      }
    },
    {
      "cell_type": "code",
      "source": [
        "kilometers = float(input(\"Enter the value to be converted in miles: \"))\n",
        "conversion_factor = 0.621371\n",
        "miles = kilometers * conversion_factor\n",
        "print(f\"{kilometers} kilometers is equal to {miles} miles\")"
      ],
      "metadata": {
        "colab": {
          "base_uri": "https://localhost:8080/"
        },
        "id": "57h382ZhcO5M",
        "outputId": "e8ff54c8-ee35-4502-cc17-6310104d34f6"
      },
      "execution_count": null,
      "outputs": [
        {
          "output_type": "stream",
          "name": "stdout",
          "text": [
            "Enter the value to be converted in miles: 12\n",
            "12.0 kilometers is equal to 7.4564520000000005 miles\n"
          ]
        }
      ]
    },
    {
      "cell_type": "markdown",
      "source": [
        "# Program 7\n",
        "Write a Python program to convert Celsius to Fahrenheit."
      ],
      "metadata": {
        "id": "dVZb8_LYdNmn"
      }
    },
    {
      "cell_type": "code",
      "source": [
        "celsius = float(input(\"Enter temp in celsius: \"))\n",
        "fahrenheit = (celsius *9/5) + 326\n",
        "\n",
        "print(f\"{celsius} degree celsius is equal to {fahrenheit} degrees fahrenheit\")"
      ],
      "metadata": {
        "colab": {
          "base_uri": "https://localhost:8080/"
        },
        "id": "0GIyrMGPc48C",
        "outputId": "0fe6cf63-3ba0-4a04-a9f1-e8140c7422b7"
      },
      "execution_count": null,
      "outputs": [
        {
          "output_type": "stream",
          "name": "stdout",
          "text": [
            "Enter temp in celsius: 23\n",
            "23.0 degree celsius is equal to 73.4 degrees fahrenheit\n"
          ]
        }
      ]
    },
    {
      "cell_type": "code",
      "source": [],
      "metadata": {
        "id": "wp_5ewAVeDom"
      },
      "execution_count": null,
      "outputs": []
    }
  ]
}